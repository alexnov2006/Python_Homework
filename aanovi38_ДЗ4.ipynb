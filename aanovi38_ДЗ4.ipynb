{
 "cells": [
  {
   "cell_type": "markdown",
   "metadata": {},
   "source": [
    "### Большая часть задач требует операций с файлами, поэтому для воспроизводимости результатов работы вашего кода эти файлы нужно создавать\n",
    "\n",
    "### Можете их всех создавать в текущей папке, быстро и удобно это можно сделать таким способом:"
   ]
  },
  {
   "cell_type": "code",
   "execution_count": 1,
   "metadata": {
    "collapsed": false
   },
   "outputs": [],
   "source": [
    "text = \"\"\"123\n",
    "4567\n",
    " 8910\n",
    "\"\"\"\n",
    "with open('task_1.1_source', 'w') as f:\n",
    "    f.write(text)"
   ]
  },
  {
   "cell_type": "code",
   "execution_count": 2,
   "metadata": {
    "collapsed": false
   },
   "outputs": [
    {
     "name": "stdout",
     "output_type": "stream",
     "text": [
      "123\r\n",
      "4567\r\n",
      " 8910\r\n"
     ]
    }
   ],
   "source": [
    "!cat task_1.1_source"
   ]
  },
  {
   "cell_type": "markdown",
   "metadata": {},
   "source": [
    "# Базовый уровень"
   ]
  },
  {
   "cell_type": "markdown",
   "metadata": {},
   "source": [
    "## Задание 1.1\n",
    "\n",
    "Напишите функцию, копирующую файл\n",
    "\n",
    "source_path должен существовать, а отсутствующие промежуточные папки из target_path должны быть созданы\n",
    "\n",
    "Подсказка: можно прочитать исходный файл и записать в новый. \n",
    "\n",
    "Опциональное усложнение: попробуйте написать так, чтобы функция работала и с большими файлами (нужно, чтобы содежимое файла не считывалось полностью в память)"
   ]
  },
  {
   "cell_type": "code",
   "execution_count": 2,
   "metadata": {
    "collapsed": false
   },
   "outputs": [],
   "source": [
    "import os\n",
    "#подготовливаем пути и файлы\n",
    "if not os.path.exists('dir_1_1'):\n",
    "    os.mkdir('dir_1_1')\n",
    "text = \"\"\"123\n",
    "4567\n",
    "8910\n",
    "\"\"\"\n",
    "with open(os.path.join('dir_1_1','task_1.txt'), 'w') as f:\n",
    "    f.write(text)"
   ]
  },
  {
   "cell_type": "code",
   "execution_count": 5,
   "metadata": {
    "collapsed": false
   },
   "outputs": [],
   "source": [
    "import os\n",
    "def copy_file(source_path, target_path):\n",
    "    #проверяем наличие файла\n",
    "    if not os.path.exists(source_path):\n",
    "        return False\n",
    "    #проверяем наличие папки, если нет создаем ее\n",
    "    if not os.path.exists(os.path.dirname(target_path)):\n",
    "        os.makedirs(os.path.dirname(target_path))  \n",
    "    #считаем файл построчно\n",
    "    with open(source_path,'r') as src:\n",
    "        with open(target_path,'w') as trg:\n",
    "            for line in src:\n",
    "                trg.write(line)\n",
    "    return True"
   ]
  },
  {
   "cell_type": "code",
   "execution_count": 6,
   "metadata": {
    "collapsed": false
   },
   "outputs": [
    {
     "data": {
      "text/plain": [
       "True"
      ]
     },
     "execution_count": 6,
     "metadata": {},
     "output_type": "execute_result"
    }
   ],
   "source": [
    "#проверка                \n",
    "copy_file(os.path.join('dir_1_1','task_1.txt'), \n",
    "          os.path.join('dir_1_1','testdir_1_1_sub','dir_1_1_sub_sub','task_1.txt'))"
   ]
  },
  {
   "cell_type": "markdown",
   "metadata": {},
   "source": [
    "## Задание 1.2\n",
    "\n",
    "##### В файле source_path находится англо-латинский словарь, то есть список слов на английском языке и их переводы на латинский язык (переводов может быть несколько). Необходимо создать из него латино-английский словарь по пути target_path. Например, из словаря\n",
    "\n",
    "\n",
    "\n",
    "apple - malum, pomum, popula\n",
    "\n",
    "fruit - baca, bacca, popum\n",
    "\n",
    "punishment - malum, multa\n",
    "\n",
    "\n",
    "\n",
    "##### нужно сделать словарь.\n",
    "\n",
    "baca - fruit\n",
    "\n",
    "bacca - fruit\n",
    "\n",
    "malum - apple, punishment\n",
    "\n",
    "multa - punishment\n",
    "\n",
    "pomum - apple\n",
    "\n",
    "popula - apple\n",
    "\n",
    "popum - fruit\n",
    "\n",
    "##### Не забудьте, что слова нужно расположить в алфавитном порядке.\n",
    "##### Будет полезна функция strip у строки для удаления пробелов\n"
   ]
  },
  {
   "cell_type": "code",
   "execution_count": 7,
   "metadata": {
    "collapsed": true
   },
   "outputs": [],
   "source": [
    "import os\n",
    "#подготовливаем пути и файлы\n",
    "if not os.path.exists('dir_1_2'):\n",
    "    os.mkdir('dir_1_2')\n",
    "text = \"\"\"apple - malum, pomum, popula\n",
    "fruit - baca, bacca, popum\n",
    "punishment - malum, multa\n",
    "\"\"\"\n",
    "with open(os.path.join('dir_1_2','task_12.txt'), 'w') as f:\n",
    "    f.write(text)"
   ]
  },
  {
   "cell_type": "code",
   "execution_count": 30,
   "metadata": {
    "collapsed": false
   },
   "outputs": [],
   "source": [
    "import os\n",
    "import re\n",
    "def eng_lat_2_lat_eng(source_path, target_path):\n",
    "    #проверяем наличие файла\n",
    "    if not os.path.exists(source_path):\n",
    "        return False\n",
    "    #проверяем наличие папки, если нет создаем ее\n",
    "    if not os.path.exists(os.path.dirname(target_path)):\n",
    "        os.makedirs(os.path.dirname(target_path))\n",
    "    #создаем словарь\n",
    "    lat_dict = dict()\n",
    "    #открываем  файл для чтения\n",
    "    with open(source_path,'r') as src:\n",
    "        for line in src:\n",
    "            #для каждой строки получаем список, где первый элемент значение словаря, а далее идут ключи\n",
    "            lst = map(str.strip, re.split('[-,]',line))\n",
    "            for elem in lst[1:]:\n",
    "                if not lat_dict.has_key(elem):\n",
    "                    lat_dict[elem] = lst[0]\n",
    "                else:\n",
    "                    #добавляем новое значение\n",
    "                    lat_dict[elem] = ', '.join([lat_dict[elem],lst[0]])\n",
    "        #открываем файл для записи\n",
    "        with open(target_path,'w') as trg:\n",
    "            #сортируем список и записываем в файл\n",
    "            for elem in sorted(lat_dict.items(), key=lambda item: item[0]):\n",
    "                trg.write(' - '.join(elem) + '\\n')\n",
    "    return True"
   ]
  },
  {
   "cell_type": "code",
   "execution_count": 31,
   "metadata": {
    "collapsed": false
   },
   "outputs": [
    {
     "data": {
      "text/plain": [
       "True"
      ]
     },
     "execution_count": 31,
     "metadata": {},
     "output_type": "execute_result"
    }
   ],
   "source": [
    "#проверка\n",
    "eng_lat_2_lat_eng(os.path.join('dir_1_2','task_12.txt'), \n",
    "                  os.path.join('dir_1_2','task_12_2.txt'))"
   ]
  },
  {
   "cell_type": "markdown",
   "metadata": {},
   "source": [
    "## Задание 1.3\n",
    "\n",
    "Напишите функцию, вычисляющую длину русского слова, независимо от его кодировки\n",
    "\n",
    "Если параметр encoding задан, то нужно декодировать текст при помощи этой кодировки. А если он не задан, то кодировку надо определить самостоятельно.\n",
    "\n",
    "##### Если кодировка не задана, то точное решение здесь написать не получится. Но можно воспользоваться функцией my_decoder из лекции"
   ]
  },
  {
   "cell_type": "code",
   "execution_count": 10,
   "metadata": {
    "collapsed": false
   },
   "outputs": [],
   "source": [
    "import chardet\n",
    "\n",
    "def my_len(word, encoding=None):\n",
    "    if type(word) is unicode: return len(word)\n",
    "    if encoding == None: encoding = chardet.detect(word)['encoding']\n",
    "    return len(word.decode(encoding))"
   ]
  },
  {
   "cell_type": "code",
   "execution_count": 11,
   "metadata": {
    "collapsed": false
   },
   "outputs": [
    {
     "data": {
      "text/plain": [
       "True"
      ]
     },
     "execution_count": 11,
     "metadata": {},
     "output_type": "execute_result"
    }
   ],
   "source": [
    "my_len('текст') == 5"
   ]
  },
  {
   "cell_type": "code",
   "execution_count": 12,
   "metadata": {
    "collapsed": false
   },
   "outputs": [
    {
     "data": {
      "text/plain": [
       "True"
      ]
     },
     "execution_count": 12,
     "metadata": {},
     "output_type": "execute_result"
    }
   ],
   "source": [
    "my_len(u'текст') == 5"
   ]
  },
  {
   "cell_type": "code",
   "execution_count": 13,
   "metadata": {
    "collapsed": false
   },
   "outputs": [
    {
     "data": {
      "text/plain": [
       "True"
      ]
     },
     "execution_count": 13,
     "metadata": {},
     "output_type": "execute_result"
    }
   ],
   "source": [
    "my_len(u'ааааа'.encode('utf_16'), encoding='utf_16') == 5"
   ]
  },
  {
   "cell_type": "code",
   "execution_count": 95,
   "metadata": {
    "collapsed": false
   },
   "outputs": [
    {
     "data": {
      "text/plain": [
       "True"
      ]
     },
     "execution_count": 95,
     "metadata": {},
     "output_type": "execute_result"
    }
   ],
   "source": [
    "my_len(u'текст'.encode('windows-1251')) == 5"
   ]
  },
  {
   "cell_type": "markdown",
   "metadata": {},
   "source": [
    "# Продвинутый уровень"
   ]
  },
  {
   "cell_type": "markdown",
   "metadata": {},
   "source": [
    "## Задание 2.1\n",
    "\n",
    "Напишите функцию, которая выписывает список файлов в данной директории и сортирует их в соответствии с их размером. Функция должна получать путь к директории в качестве аргумента и печатать на экран имена всех файлов в ней и их размеры, причем первыми должны идти файлы с наибольшими размерами, а в случае одинакового размер файлы сортируются по алфавиту.\n",
    "\n",
    "##### Указание. Изучите функции listdir и stat из модуля os и функции isfile и join из модуля os.path.\n"
   ]
  },
  {
   "cell_type": "code",
   "execution_count": 14,
   "metadata": {
    "collapsed": false
   },
   "outputs": [],
   "source": [
    "import os\n",
    "#подготовливаем файлы\n",
    "if not os.path.exists('dir_2_1'):\n",
    "    os.mkdir('dir_2_1')\n",
    "if not os.path.exists(os.path.join('dir_2_1','taskdir_2_1_1')):\n",
    "    os.makedirs(os.path.join('dir_2_1','taskdir_2_1_1'))\n",
    "if not os.path.exists(os.path.join('testdir_2_1','taskdir_2_1_2')):\n",
    "    os.makedirs(os.path.join('dir_2_1','taskdir_2_1_2'))\n",
    "\n",
    "text = \"\"\"Hello!\n",
    "\"\"\"\n",
    "with open(os.path.join('dir_2_1','qwerty.txt'), 'w') as f:\n",
    "    f.write(text)\n",
    "    \n",
    "text = \"\"\"Hahahahah!\n",
    "\"\"\"\n",
    "with open(os.path.join('dir_2_1','arbuzz.txt'), 'w') as f:\n",
    "    f.write(text)\n",
    "    \n",
    "text = \"\"\"My\n",
    "\"\"\"\n",
    "with open(os.path.join('dir_2_1','papapa.txt'), 'w') as f:\n",
    "    f.write(text)\n",
    "    \n",
    "text = \"\"\"222\n",
    "pppp\n",
    "\"\"\"\n",
    "with open(os.path.join('dir_2_1','ccc.txt'), 'w') as f:\n",
    "    f.write(text)\n",
    "\n",
    "text = \"\"\"0\n",
    "\"\"\"\n",
    "with open(os.path.join('dir_2_1','limon.txt'), 'w') as f:\n",
    "    f.write(text)\n",
    "    \n",
    "text = \"\"\"123\n",
    "123\n",
    "123\n",
    "\"\"\"\n",
    "with open(os.path.join('dir_2_1','git.txt'), 'w') as f:\n",
    "    f.write(text)"
   ]
  },
  {
   "cell_type": "code",
   "execution_count": 19,
   "metadata": {
    "collapsed": false
   },
   "outputs": [],
   "source": [
    "import os\n",
    "def get_dir_content_info(dir_path):\n",
    "    #проверяем наличе исходного файла\n",
    "    if not os.path.exists(dir_path):\n",
    "        return False\n",
    "    #получаем имя и размер файлов в папке\n",
    "    lst = [ (os.path.basename(fl), os.stat(fl).st_size) \n",
    "           for fl in map(lambda x: os.path.join(dir_path,x), os.listdir(dir_path)) if os.path.isfile(fl) ]\n",
    "    #создаем словарь\n",
    "    dct = dict()\n",
    "    for x, y in lst:\n",
    "        if not dct.has_key(y):\n",
    "            dct[y] = x\n",
    "        else:\n",
    "            dct[y] = dct[y]+':'+x\n",
    "    #сортировка по размеру файла\n",
    "    for x in sorted(dct.keys(), reverse=True):\n",
    "        #сортировка по имени файла\n",
    "        for y in sorted(dct[x].split(\":\")):\n",
    "            print y+'\\t'+str(x)\n",
    "    return True"
   ]
  },
  {
   "cell_type": "code",
   "execution_count": 20,
   "metadata": {
    "collapsed": false
   },
   "outputs": [
    {
     "name": "stdout",
     "output_type": "stream",
     "text": [
      "git.txt\t15\n",
      "arbuzz.txt\t12\n",
      "ccc.txt\t11\n",
      "qwerty.txt\t8\n",
      "papapa.txt\t4\n",
      "limon.txt\t3\n"
     ]
    },
    {
     "data": {
      "text/plain": [
       "True"
      ]
     },
     "execution_count": 20,
     "metadata": {},
     "output_type": "execute_result"
    }
   ],
   "source": [
    "#проверка\n",
    "get_dir_content_info('dir_2_1')\n"
   ]
  },
  {
   "cell_type": "markdown",
   "metadata": {},
   "source": [
    "## Задание 2.2\n",
    "\n",
    "Аналогично 1.2, но только теперь англо-русский в русско-английский словарь. Дополнительно теперь будет ещё параметр encoding для кодировки файлов. Если он None, то нужно самостоятельно определить кодировку файла.\n",
    "\n",
    "##### Решение будет почти дублировать 1.2, но сначала текст нужно привести в unicode"
   ]
  },
  {
   "cell_type": "code",
   "execution_count": 21,
   "metadata": {
    "collapsed": false
   },
   "outputs": [],
   "source": [
    "import os\n",
    "#подготовливаем демонстрационные пути и файлы\n",
    "if not os.path.exists('dir_2_2'):\n",
    "    os.mkdir('dir_2_2')\n",
    "text = [\n",
    "u'way - дорога, путь, судьба\\n',\n",
    "u'path - путь, тропа, траектория\\n',\n",
    "u'destiny - судьба, рок\\n'\n",
    "]\n",
    "with open(os.path.join('dir_2_2','2_2_1251.txt'), 'w') as f:\n",
    "    for i in range(0,len(text)): f.write(text[i].encode('windows-1251'))\n",
    "with open(os.path.join('dir_2_2','2_2_utf8.txt'), 'w') as f:\n",
    "    for i in range(0,len(text)): f.write(text[i].encode('utf-8'))"
   ]
  },
  {
   "cell_type": "code",
   "execution_count": 22,
   "metadata": {
    "collapsed": false
   },
   "outputs": [],
   "source": [
    "import os\n",
    "import chardet\n",
    "import string\n",
    "\n",
    "def eng_rus_2_rus_eng(source_path, target_path, encoding=None):\n",
    "    #проверяем наличие файла\n",
    "    if not os.path.exists(source_path):\n",
    "        return False\n",
    "    #проверяем наличие папки\n",
    "    if not os.path.exists(os.path.dirname(target_path)):\n",
    "        os.makedirs(os.path.dirname(target_path))\n",
    "    #создаем словарь\n",
    "    ru_dict = dict()\n",
    "    #попытаемся определить кодировку\n",
    "    if encoding == None: \n",
    "        with open(source_path,'r') as src:\n",
    "            encoding = chardet.detect(src.read())['encoding']\n",
    "    #открываем файл для чтения\n",
    "    with open(source_path,'r') as src:\n",
    "        for line in src:\n",
    "            #получаем unicode\n",
    "            ln = unicode(line, encoding=encoding)\n",
    "            #для каждой строки получаем список, где первый элемент значение словаря, а далее идут ключи\n",
    "            enwrd  = ln.split('-')[0].strip()\n",
    "            ruwrds = ln.split('-')[1].strip()\n",
    "            #получаем массив ключей\n",
    "            ruwrd = ruwrds.split(',')\n",
    "            for wrd in ruwrd:\n",
    "                swrd = wrd.strip()\n",
    "                if swrd not in ru_dict:\n",
    "                    #добавляем новый элемент в словарь ключ кириллица значение латиница\n",
    "                    ru_dict[swrd] = enwrd\n",
    "                else:\n",
    "                    ru_dict[swrd] += ', '+enwrd\n",
    "        #открываем файл для записи\n",
    "        with open(target_path,'w') as trg:\n",
    "            for elem in sorted(ru_dict.items(), key=lambda item: item[0]):\n",
    "                newstr = elem[0]+' - '+elem[1]+'\\n'\n",
    "                #записываем в нужной кодировке\n",
    "                trg.write(newstr.encode(encoding))\n",
    "    return True    "
   ]
  },
  {
   "cell_type": "code",
   "execution_count": 27,
   "metadata": {
    "collapsed": false
   },
   "outputs": [
    {
     "data": {
      "text/plain": [
       "True"
      ]
     },
     "execution_count": 27,
     "metadata": {},
     "output_type": "execute_result"
    }
   ],
   "source": [
    "eng_rus_2_rus_eng(os.path.join('dir_2_2','2_2_1251.txt'), \n",
    "                  os.path.join('dir_2_2','2_2_1251_2.txt'),'windows-1251')"
   ]
  },
  {
   "cell_type": "code",
   "execution_count": 28,
   "metadata": {
    "collapsed": false
   },
   "outputs": [
    {
     "data": {
      "text/plain": [
       "True"
      ]
     },
     "execution_count": 28,
     "metadata": {},
     "output_type": "execute_result"
    }
   ],
   "source": [
    "eng_rus_2_rus_eng(os.path.join('dir_2_2','2_2_utf8.txt'), \n",
    "                  os.path.join('dir_2_2','2_2_utf8_2.txt'),'utf-8')"
   ]
  },
  {
   "cell_type": "markdown",
   "metadata": {},
   "source": [
    "# Сложный уровень"
   ]
  },
  {
   "cell_type": "markdown",
   "metadata": {},
   "source": [
    "## Задание 3.1\n",
    "\n",
    "Существует исследование, говорящее о том, что в словах текста можно произвольно переставить буквы (не затрагивая первую и последнюю), и от этого читабельность текста практически не ухудшится. Напишите функцию для проверки этого факта. Ваша функция должна получать на вход какой-нибудь текст (может быть и на русском языке) и переставлять буквы в его словах случайным образом. \n",
    "\n",
    "Если seed None, то буквы переставляются не случайным образом, а сортируются по алфавиту (латинские символы считаем меньше кириллических). Если seed не None, то нужно использовать это seed при инициализации рандома. Сравните результаты.\n",
    "\n",
    "##### будем считать, что текст это последовательность кириллических и латинских символов разделённая пробелом\n",
    "##### вам потребуется модуль random и функции random.seed и random.shuffle\n",
    "##### проверьте результат работы на не юникодовских строчках и объясните результат"
   ]
  },
  {
   "cell_type": "markdown",
   "metadata": {},
   "source": [
    "## Задание 3.2\n",
    "\n",
    "Напишите функцию, которая читает два файла построчно (то есть не загружая всё содержимое в память), и записывает в выходной файл результат лексиграфического сравнение срочки из первого файла и из второго (First, Second и Equal по аналогии c предыдущим ДЗ)."
   ]
  }
 ],
 "metadata": {
  "anaconda-cloud": {},
  "kernelspec": {
   "display_name": "Python 2",
   "language": "python",
   "name": "python2"
  },
  "language_info": {
   "codemirror_mode": {
    "name": "ipython",
    "version": 2
   },
   "file_extension": ".py",
   "mimetype": "text/x-python",
   "name": "python",
   "nbconvert_exporter": "python",
   "pygments_lexer": "ipython2",
   "version": "2.7.13"
  }
 },
 "nbformat": 4,
 "nbformat_minor": 2
}
