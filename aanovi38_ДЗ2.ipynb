{
 "cells": [
  {
   "cell_type": "markdown",
   "metadata": {},
   "source": [
    "# Базовая часть"
   ]
  },
  {
   "cell_type": "markdown",
   "metadata": {},
   "source": [
    "Рассмотрим задание 2 из лекции. При анализе отзывов на работу техподдержки вы считали массив из отзывов (для простоты отзыва приведено всего два, но могло быть и больше):"
   ]
  },
  {
   "cell_type": "code",
   "execution_count": 10,
   "metadata": {
    "collapsed": false
   },
   "outputs": [],
   "source": [
    "reviews = [\"\"\"Телефон абонента: +7 916 000 00 01\n",
    "Время: 10:34\n",
    "Дата: 20.05.2017\n",
    "Оценка: 1\n",
    "Длительность разговора (мин.): 0:32\n",
    "Комментарий: Общение с сотрудником вашей техподдержки мне не понравилось. Раньше всегда отвечала девушка с приятным голосом, а сегодня какой-то мужчина. Совсем никуда не годится, примите меры!!!\"\"\",\n",
    "\"\"\"Телефон абонента: +7 916 000 00 02\n",
    "Время: 9:20\n",
    "Дата: 21.05.2017\n",
    "Оценка: 5\n",
    "Длительность разговора (мин.): 25:07\n",
    "Комментарий: С моей проблемой мне помогли, большое спасибо!\"\"\"]\n"
   ]
  },
  {
   "cell_type": "code",
   "execution_count": 11,
   "metadata": {
    "collapsed": false
   },
   "outputs": [],
   "source": [
    "my_base = dict()\n",
    "\n",
    "for review in reviews:\n",
    "    in_dict=dict()\n",
    "    for line in review.split('\\n')[1:]:\n",
    "        in_dict[line.split(': ')[0]]=line.split(': ')[1]\n",
    "    \n",
    "    my_base[review.split('\\n')[0].split(': ')[1]] = in_dict"
   ]
  },
  {
   "cell_type": "markdown",
   "metadata": {},
   "source": [
    "Сформируйте на основе этого массива словарь my_base, в котором по ключу в виде строки с телефоном абонента будет храниться другой словарь. Внутренний словарь по ключам в виде названий полей отзыва должен хранить значение полей (в виде строк). Например, код ниже должен выдать True:"
   ]
  },
  {
   "cell_type": "code",
   "execution_count": 12,
   "metadata": {
    "collapsed": false
   },
   "outputs": [
    {
     "data": {
      "text/plain": [
       "True"
      ]
     },
     "execution_count": 12,
     "metadata": {},
     "output_type": "execute_result"
    }
   ],
   "source": [
    "my_base['+7 916 000 00 01']['Дата'] == '20.05.2017'"
   ]
  },
  {
   "cell_type": "markdown",
   "metadata": {},
   "source": [
    "Обратите внимание, что вам могут немного мешать пробелы после знаков \":\""
   ]
  },
  {
   "cell_type": "markdown",
   "metadata": {},
   "source": [
    "# Продвинутая часть"
   ]
  },
  {
   "cell_type": "markdown",
   "metadata": {},
   "source": [
    "Попробуйте выполнить предыдущее задание, но теперь обеспечив хранение полей из отзыва в словаре в тех типах данных, которые на ваш взгляд наиболее уместны. Подумайте, что делать с датой и временем. Возможно вам покажется полезным немного воспользоваться поисковиком или документацией к Python, а может быть вам хватит стандартных типов данных.\n",
    "Объясните свой выбор в комментариях к коду или markdown ячейках и продемонстрируйте, что поля имеют нужный тип."
   ]
  },
  {
   "cell_type": "code",
   "execution_count": 32,
   "metadata": {
    "collapsed": false
   },
   "outputs": [
    {
     "name": "stdout",
     "output_type": "stream",
     "text": [
      "Тип поля \"Дата\":\n",
      "<type 'datetime.datetime'>\n",
      "\n",
      "\n",
      "Тип поля \"Время\":\n",
      "<type 'datetime.datetime'>\n",
      "\n",
      "\n",
      "Тип поля \"Длительность разговора (мин.)\":\n",
      "<type 'datetime.timedelta'>\n"
     ]
    }
   ],
   "source": [
    "import time,datetime\n",
    "my_base = dict()\n",
    "\n",
    "for review in reviews:\n",
    "    in_dict=dict()\n",
    "    for line in review.split('\\n')[1:]:\n",
    "        in_dict[line.split(': ')[0]]=line.split(': ')[1]\n",
    "    in_dict['Дата'] = datetime.datetime.strptime(in_dict['Дата'], \"%d.%m.%Y\")\n",
    "    in_dict['Время'] = datetime.datetime.strptime(in_dict['Время'], \"%H:%M\")\n",
    "    in_dict['Длительность разговора (мин.)'] = datetime.timedelta(minutes=int(in_dict['Длительность разговора (мин.)'].split(':')[0]),seconds=int(in_dict['Длительность разговора (мин.)'].split(':')[1]))  \n",
    "    my_base[review.split('\\n')[0].split(': ')[1]] = in_dict\n",
    "print 'Тип поля \"Дата\":'\n",
    "print type(my_base['+7 916 000 00 01']['Дата'])\n",
    "print \"\\n\"\n",
    "print 'Тип поля \"Время\":'\n",
    "print type(my_base['+7 916 000 00 01']['Время'])\n",
    "print \"\\n\"\n",
    "print 'Тип поля \"Длительность разговора (мин.)\":'\n",
    "print type(my_base['+7 916 000 00 01']['Длительность разговора (мин.)'])"
   ]
  },
  {
   "cell_type": "markdown",
   "metadata": {},
   "source": [
    "Будем хранить дату и время в соответствующих типах. А вдруг нам с ними потом работать?) Вычитать, например, для определения временного промежутка. А то чего доброго Python интерпретирует эти данные как Int()"
   ]
  },
  {
   "cell_type": "markdown",
   "metadata": {},
   "source": [
    "# Сложная часть"
   ]
  },
  {
   "cell_type": "markdown",
   "metadata": {},
   "source": [
    "На лекции было рассказано про неизменяемые типы, в частности про tuple. Подумайте, можно ли \"сломать\" неизменяемость tuple? Как сделать tuple изменяемым? Можно ли будет его добавить в множество или использовать в качестве ключа в словаре?"
   ]
  },
  {
   "cell_type": "markdown",
   "metadata": {
    "collapsed": true
   },
   "source": [
    "В качестве ключа в словаре может быть любой неизменяемый тип (строка, число, кортеж) - кортеж подходит. В то же время, кортеж может состоять из изменяемых типов данных, т.о. можно изменять члены внутри кортежа (списки, словари и множества)."
   ]
  }
 ],
 "metadata": {
  "anaconda-cloud": {},
  "kernelspec": {
   "display_name": "Python 2",
   "language": "python",
   "name": "python2"
  },
  "language_info": {
   "codemirror_mode": {
    "name": "ipython",
    "version": 2
   },
   "file_extension": ".py",
   "mimetype": "text/x-python",
   "name": "python",
   "nbconvert_exporter": "python",
   "pygments_lexer": "ipython2",
   "version": "2.7.13"
  }
 },
 "nbformat": 4,
 "nbformat_minor": 1
}
